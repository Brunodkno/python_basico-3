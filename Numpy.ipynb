{
 "cells": [
  {
   "cell_type": "markdown",
   "metadata": {},
   "source": [
    "Libreria Numpy"
   ]
  },
  {
   "cell_type": "code",
   "execution_count": 1,
   "metadata": {},
   "outputs": [],
   "source": [
    "import numpy as np"
   ]
  },
  {
   "cell_type": "code",
   "execution_count": 2,
   "metadata": {},
   "outputs": [
    {
     "name": "stdout",
     "output_type": "stream",
     "text": [
      "arreglo: [1 2 3 4 5 6]\n",
      "Forma del arreglo: (6,)\n",
      "Tipo del arreglo: int64\n"
     ]
    }
   ],
   "source": [
    "# arreglo de 1 dimension \n",
    "array1dim= np.array ([1,2,3,4,5,6])\n",
    "array1dim\n",
    "print('arreglo:',array1dim)\n",
    "print('Forma del arreglo:',array1dim.shape)\n",
    "print('Tipo del arreglo:',array1dim.dtype)"
   ]
  },
  {
   "cell_type": "code",
   "execution_count": 10,
   "metadata": {},
   "outputs": [
    {
     "name": "stdout",
     "output_type": "stream",
     "text": [
      "arreglo de 2 dimensiones: [[1 2 3]\n",
      " [4 5 6]]\n",
      "Forma del arreglo (2, 3)\n",
      "Tipo de arreglo: int64\n"
     ]
    }
   ],
   "source": [
    "#array de 2 filas y 3 columnas cambiando la forma del arreglo anterior\n",
    "array2dim=array1dim.reshape((2,3))\n",
    "print('arreglo de 2 dimensiones:', array2dim)\n",
    "print('Forma del arreglo', array2dim.shape)\n",
    "print('Tipo de arreglo:', array2dim.dtype)"
   ]
  },
  {
   "cell_type": "code",
   "execution_count": 28,
   "metadata": {},
   "outputs": [
    {
     "name": "stdout",
     "output_type": "stream",
     "text": [
      "[[6. 3. 8.]\n",
      " [1. 1. 4.]\n",
      " [8. 8. 6.]\n",
      " [7. 6. 2.]]\n"
     ]
    }
   ],
   "source": [
    "#crear una matriz aleatoria\n",
    "matriz_aleat = ((np.random.rand(4,3)*10).round())\n",
    "print(matriz_aleat)"
   ]
  },
  {
   "cell_type": "code",
   "execution_count": 33,
   "metadata": {},
   "outputs": [
    {
     "name": "stdout",
     "output_type": "stream",
     "text": [
      "array de listas : [[1 2 3]\n",
      " [4 5 6]\n",
      " [7 8 9]]\n"
     ]
    }
   ],
   "source": [
    "#crear una matriz con una lista de listas\n",
    "arr_de_listas = np.array([[1,2,3],[4,5,6],[7,8,9]])\n",
    "print('array de listas :',arr_de_listas)"
   ]
  },
  {
   "cell_type": "code",
   "execution_count": 34,
   "metadata": {},
   "outputs": [
    {
     "name": "stdout",
     "output_type": "stream",
     "text": [
      "[[0. 0. 0.]\n",
      " [0. 0. 0.]\n",
      " [0. 0. 0.]\n",
      " [0. 0. 0.]]\n"
     ]
    }
   ],
   "source": [
    "#crear un array vacio 4*3\n",
    "arr_cero= np.zeros((4,3))\n",
    "print(arr_cero)"
   ]
  },
  {
   "cell_type": "code",
   "execution_count": 5,
   "metadata": {},
   "outputs": [
    {
     "name": "stdout",
     "output_type": "stream",
     "text": [
      "[[1. 1.]\n",
      " [1. 1.]]\n"
     ]
    }
   ],
   "source": [
    "#crear un arreglo con unos 2*2\n",
    "arr_unos = np.ones((2,2))\n",
    "print(arr_unos)\n"
   ]
  },
  {
   "cell_type": "code",
   "execution_count": null,
   "metadata": {},
   "outputs": [
    {
     "data": {
      "text/plain": [
       "array([[1., 4.],\n",
       "       [1., 8.]])"
      ]
     },
     "execution_count": 10,
     "metadata": {},
     "output_type": "execute_result"
    }
   ],
   "source": [
    "# agregar un dato al arreglo\n",
    "arr_unos[1,1] = 8\n",
    "arr_unos[0,1] = 10\n",
    "arr_unos[[0,0],[0,1]]= [1,4]    #agregar datos a mas de una posicion \n",
    "arr_unos"
   ]
  },
  {
   "cell_type": "code",
   "execution_count": null,
   "metadata": {},
   "outputs": [],
   "source": [
    "\n"
   ]
  },
  {
   "cell_type": "code",
   "execution_count": null,
   "metadata": {},
   "outputs": [],
   "source": []
  },
  {
   "cell_type": "code",
   "execution_count": null,
   "metadata": {},
   "outputs": [],
   "source": []
  },
  {
   "cell_type": "code",
   "execution_count": null,
   "metadata": {},
   "outputs": [],
   "source": []
  },
  {
   "cell_type": "code",
   "execution_count": null,
   "metadata": {},
   "outputs": [],
   "source": []
  },
  {
   "cell_type": "code",
   "execution_count": null,
   "metadata": {},
   "outputs": [],
   "source": []
  }
 ],
 "metadata": {
  "kernelspec": {
   "display_name": "Python 3",
   "language": "python",
   "name": "python3"
  },
  "language_info": {
   "codemirror_mode": {
    "name": "ipython",
    "version": 3
   },
   "file_extension": ".py",
   "mimetype": "text/x-python",
   "name": "python",
   "nbconvert_exporter": "python",
   "pygments_lexer": "ipython3",
   "version": "3.13.2"
  }
 },
 "nbformat": 4,
 "nbformat_minor": 2
}
